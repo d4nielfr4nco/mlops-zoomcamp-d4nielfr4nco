{
 "cells": [
  {
   "attachments": {},
   "cell_type": "markdown",
   "id": "92d5b6ff",
   "metadata": {},
   "source": [
    "## Homework\n",
    "\n",
    "The goal of this homework is to familiarize users with monitoring for ML batch services, using PostgreSQL database to store metrics and Grafana to visualize them."
   ]
  },
  {
   "attachments": {},
   "cell_type": "markdown",
   "id": "5c577d4f",
   "metadata": {},
   "source": [
    "## Q1. Prepare the dataset\n",
    "\n",
    "Start with `baseline_model_nyc_taxi_data.ipynb`. Download the March 2023 Green Taxi data. We will use this data to simulate a production usage of a taxi trip duration prediction service.\n",
    "\n",
    "What is the shape of the downloaded data? How many rows are there?\n",
    "\n",
    "* 72044\n",
    "* 78537 \n",
    "* 62495\n",
    "* 54396"
   ]
  },
  {
   "cell_type": "code",
   "execution_count": null,
   "id": "caafda0a",
   "metadata": {},
   "outputs": [
    {
     "name": "stdout",
     "output_type": "stream",
     "text": [
      "Answer: 72044\n"
     ]
    }
   ],
   "source": [
    "import pandas as pd\n",
    "\n",
    "df = pd.read_parquet('../../data/green_tripdata_2023-03.parquet')\n",
    "print('Answer:', df.shape[0])"
   ]
  },
  {
   "attachments": {},
   "cell_type": "markdown",
   "id": "3b091757",
   "metadata": {},
   "source": [
    "## Q2. Metric\n",
    "\n",
    "Let's expand the number of data quality metrics we’d like to monitor! Please add one metric of your choice and a quantile value for the `\"fare_amount\"` column (`quantile=0.5`).\n",
    "\n",
    "Hint: explore evidently metric `ColumnQuantileMetric` (from `evidently.metrics import ColumnQuantileMetric`) \n",
    "\n",
    "What metric did you choose?"
   ]
  },
  {
   "cell_type": "code",
   "execution_count": null,
   "id": "76dfce68",
   "metadata": {},
   "outputs": [],
   "source": [
    "# add the following code to homework6_code/evidently_metrics_calculation.py\n",
    "from evidently.metrics import ColumnQuantileMetric, ColumnCorrelationsMetric\n",
    "\n",
    "report = Report(metrics = [\n",
    "    DatasetMissingValuesMetric(),\n",
    "\tColumnCorrelationsMetric(column_name='prediction'),\n",
    "    ColumnQuantileMetric(column_name='fare_amount', quantile=0.5)\n",
    "])\n",
    "\n",
    "# create the script baseline_model.py"
   ]
  },
  {
   "attachments": {},
   "cell_type": "markdown",
   "id": "6c2b8479",
   "metadata": {},
   "source": [
    "**Answer**: ColumnCorrelationsMetric"
   ]
  },
  {
   "attachments": {},
   "cell_type": "markdown",
   "id": "8cfc5712",
   "metadata": {},
   "source": [
    "## Q3. Prefect flow \n",
    "\n",
    "Let’s update prefect tasks by giving them nice meaningful names, specifying a number of delays and retries.\n",
    "\n",
    "Hint: use `evidently_metrics_calculation.py` script as a starting point to implement your solution. Check the  prefect docs to check task parameters.\n",
    "\n",
    "What is the correct way of doing that?\n",
    "\n",
    "* `@task(retries_num=2, retry_seconds=5, task_name=\"calculate metrics\")`\n",
    "* `@task(retries_num=2, retry_delay_seconds=5, name=\"calculate metrics\")`\n",
    "* `@task(retries=2, retry_seconds=5, task_name=\"calculate metrics\")`\n",
    "* `@task(retries=2, retry_delay_seconds=5, name=\"calculate metrics\")`"
   ]
  },
  {
   "attachments": {},
   "cell_type": "markdown",
   "id": "524b037e",
   "metadata": {},
   "source": [
    "**Answer**: @task(retries=2, retry_delay_seconds=5, name=\"calculate metrics\")"
   ]
  },
  {
   "attachments": {},
   "cell_type": "markdown",
   "id": "e8597bc4",
   "metadata": {},
   "source": [
    "## Q4. Monitoring\n",
    "\n",
    "Let’s start monitoring. Run expanded monitoring for a new batch of data (March 2023). \n",
    "\n",
    "What is the maximum value of metric `quantile = 0.5` on the `\"fare_amount\"` column during March 2023 (calculated daily)?\n",
    "\n",
    "* 10\n",
    "* 12.5\n",
    "* 14\n",
    "* 14.8"
   ]
  },
  {
   "attachments": {},
   "cell_type": "markdown",
   "id": "f6d78655",
   "metadata": {},
   "source": [
    "Start all the required services:\n",
    "\n",
    "```\n",
    "docker compose up\n",
    "```\n",
    "\n",
    "In another terminal, run the `baseline_model.py` script to generate the Linear Regression model:\n",
    "\n",
    "```\n",
    "python homework6_code/baseline_model.py\n",
    "```\n",
    "\n",
    "To calculate evidently metrics with prefect and send them to database, run:\n",
    "\n",
    "```\n",
    "python homework6_code/evidently_metrics_calculation.py\n",
    "```\n",
    "\n",
    "Next, in your browser, go to a `localhost:3000` The default `username` and `password` are admin\n",
    "\n",
    "Create a new Dashboard \n",
    "\n",
    "```\n",
    "SELECT\n",
    "  \"timestamp\",\n",
    "  MAX(column_quantile_metric)\n",
    "FROM\n",
    "  dummy_metrics\n",
    "GROUP BY\n",
    "  \"timestamp\"\n",
    "LIMIT\n",
    "  50\n",
    "```\n",
    "\n",
    "The panel should look like this:\n",
    "\n",
    "![Grafana Panel.png](homework6_images/grafana_panel.png)\n",
    "\n",
    "**Answer**: 14"
   ]
  },
  {
   "attachments": {},
   "cell_type": "markdown",
   "id": "e1eca16c",
   "metadata": {},
   "source": [
    "## Q5. Dashboard\n",
    "\n",
    "\n",
    "Finally, let’s add panels with new added metrics to the dashboard. After we customize the dashboard lets save a dashboard config, so that we can access it later. Hint: click on “Save dashboard” to access JSON configuration of the dashboard. This configuration should be saved locally.\n",
    "\n",
    "Where to place a dashboard config file?\n",
    "\n",
    "* `project_folder` (05-monitoring)\n",
    "* `project_folder/config`  (05-monitoring/config)\n",
    "* `project_folder/dashboards`  (05-monitoring/dashboards)\n",
    "* `project_folder/data`  (05-monitoring/data)"
   ]
  },
  {
   "attachments": {},
   "cell_type": "markdown",
   "id": "4298fafe",
   "metadata": {},
   "source": [
    "The dashboard looks like this:\n",
    "![Grafana Dashboard.png](homework6_images/grafana_dashboard.png)\n",
    "\n",
    "Go to settings and save the JSON Model in the dashboards folder. Name it `metrics.json`\n",
    "\n",
    "![Grafana Dashboard Settings.png](homework6_images/grafana_dashboard_settings.png)\n",
    "\n",
    "**Answer**: project_folder/dashboards  (05-monitoring/dashboards)"
   ]
  },
  {
   "attachments": {},
   "cell_type": "markdown",
   "id": "ab4a864f",
   "metadata": {},
   "source": [
    "## Submit the results\n",
    "\n",
    "* Submit your results here: https://forms.gle/PJaYeWsnWShAEBF79\n",
    "* You can submit your solution multiple times. In this case, only the last submission will be used\n",
    "* If your answer doesn't match options exactly, select the closest one\n",
    "\n",
    "## Answers\n",
    "* **Q1**: 72044\n",
    "* **Q2**: ColumnCorrelationsMetric\n",
    "* **Q3**: @task(retries=2, retry_delay_seconds=5, name=\"calculate metrics\")\n",
    "* **Q4**: 14\n",
    "* **Q5**: project_folder/dashboards  (05-monitoring/dashboards)\n",
    "\n",
    "## Deadline\n",
    "\n",
    "The deadline for submitting is 7 July (Friday), 23:00 CEST (Berlin time). \n",
    "\n",
    "After that, the form will be closed.\n"
   ]
  }
 ],
 "metadata": {
  "kernelspec": {
   "display_name": "Python 3 (ipykernel)",
   "language": "python",
   "name": "python3"
  },
  "language_info": {
   "codemirror_mode": {
    "name": "ipython",
    "version": 3
   },
   "file_extension": ".py",
   "mimetype": "text/x-python",
   "name": "python",
   "nbconvert_exporter": "python",
   "pygments_lexer": "ipython3",
   "version": "3.10.11"
  }
 },
 "nbformat": 4,
 "nbformat_minor": 5
}
