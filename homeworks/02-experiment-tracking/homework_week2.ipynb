{
 "cells": [
  {
   "attachments": {},
   "cell_type": "markdown",
   "id": "92d5b6ff",
   "metadata": {},
   "source": [
    "## Homework\n",
    "\n",
    "The goal of this homework is to get familiar with tools like MLflow for experiment tracking and model management."
   ]
  },
  {
   "attachments": {},
   "cell_type": "markdown",
   "id": "9ba99ffc",
   "metadata": {},
   "source": [
    "## Q1. Install the package\n",
    "\n",
    "To get started with MLflow you'll need to install the appropriate Python package.\n",
    "\n",
    "For this we recommend creating a separate Python environment, for example, you can use [conda environments](https://docs.conda.io/projects/conda/en/latest/user-guide/getting-started.html#managing-envs), \n",
    "and then install the package there with `pip` or `conda`.\n",
    "\n",
    "Once you installed the package, run the command `mlflow --version` and check the output.\n",
    "\n",
    "What's the version that you have?"
   ]
  },
  {
   "cell_type": "code",
   "execution_count": 1,
   "id": "574926f4",
   "metadata": {},
   "outputs": [
    {
     "name": "stdout",
     "output_type": "stream",
     "text": [
      "mlflow, version 2.3.1\n"
     ]
    }
   ],
   "source": [
    "!mlflow --version"
   ]
  },
  {
   "attachments": {},
   "cell_type": "markdown",
   "id": "25c612b8",
   "metadata": {},
   "source": [
    "## Q2. Download and preprocess the data\n",
    "\n",
    "We'll use the Green Taxi Trip Records dataset to predict the amount of tips for each trip. \n",
    "\n",
    "Download the data for January, February and March 2022 in parquet format from [here](https://www1.nyc.gov/site/tlc/about/tlc-trip-record-data.page).\n",
    "\n",
    "Use the script `preprocess_data.py` located in the folder [`homework`](homework) to preprocess the data.\n",
    "\n",
    "The script will:\n",
    "\n",
    "* load the data from the folder `<TAXI_DATA_FOLDER>` (the folder where you have downloaded the data),\n",
    "* fit a `DictVectorizer` on the training set (January 2022 data),\n",
    "* save the preprocessed datasets and the `DictVectorizer` to disk.\n",
    "\n",
    "Your task is to download the datasets and then execute this command:\n",
    "\n",
    "```\n",
    "python preprocess_data.py --raw_data_path <TAXI_DATA_FOLDER> --dest_path ./output\n",
    "```\n",
    "\n",
    "Tip: go to `02-experiment-tracking/homework/` folder before executing the command and change the value of `<TAXI_DATA_FOLDER>` to the location where you saved the data.\n",
    "\n",
    "So what's the size of the saved `DictVectorizer` file?\n",
    "\n",
    "* 54 kB\n",
    "* 154 kB\n",
    "* 54 MB\n",
    "* 154 MB"
   ]
  },
  {
   "cell_type": "code",
   "execution_count": 2,
   "id": "d0e9993f",
   "metadata": {},
   "outputs": [],
   "source": [
    "!python preprocess_data.py --raw_data_path ../data/green_tripdata --dest_path output"
   ]
  },
  {
   "cell_type": "code",
   "execution_count": 3,
   "id": "3d2b5963",
   "metadata": {},
   "outputs": [
    {
     "name": "stdout",
     "output_type": "stream",
     "text": [
      "DictVectorizer has size equal to 153.66 KB\n"
     ]
    }
   ],
   "source": [
    "import os\n",
    "\n",
    "size = -1\n",
    "output_path = 'output'\n",
    "dv_path = os.path.join(output_path, 'dv.pkl')\n",
    "for filename in os.listdir(output_path):\n",
    "    file_path = os.path.join(output_path, filename)\n",
    "    if os.path.exists(file_path) and file_path == dv_path:\n",
    "        size = os.path.getsize(file_path)\n",
    "        break \n",
    "    \n",
    "print(f'DictVectorizer has size equal to {size / 1000} KB')"
   ]
  },
  {
   "attachments": {},
   "cell_type": "markdown",
   "id": "45bba0e9",
   "metadata": {},
   "source": [
    "\n",
    "## Q3. Train a model with autolog\n",
    "\n",
    "We will train a `RandomForestRegressor` (from Scikit-Learn) on the taxi dataset.\n",
    "\n",
    "We have prepared the training script `train.py` for this exercise, which can be also found in the folder `homework`. \n",
    "\n",
    "The script will:\n",
    "\n",
    "* load the datasets produced by the previous step,\n",
    "* train the model on the training set,\n",
    "* calculate the RMSE score on the validation set.\n",
    "\n",
    "Your task is to modify the script to enable **autologging** with MLflow, execute the script and then launch the MLflow UI to check that the experiment run was properly tracked. \n",
    "\n",
    "Tip 1: don't forget to wrap the training code with a `with mlflow.start_run():` statement as we showed in the videos.\n",
    "\n",
    "Tip 2: don't modify the hyperparameters of the model to make sure that the training will finish quickly.\n",
    "\n",
    "In the terminal, run \n",
    "\n",
    "`mlflow server`\n",
    "\n",
    "What is the value of the `max_depth` parameter:\n",
    "\n",
    "* 4\n",
    "* 6\n",
    "* 8\n",
    "* 10"
   ]
  },
  {
   "cell_type": "code",
   "execution_count": 5,
   "id": "a5222c2f",
   "metadata": {},
   "outputs": [
    {
     "name": "stdout",
     "output_type": "stream",
     "text": [
      "tracking URI: 'http://127.0.0.1:5000'\n",
      "2023/06/01 04:35:25 WARNING mlflow.utils.autologging_utils: MLflow autologging encountered a warning: \"/home/danielpinheirofranco/miniconda3/envs/mlopszoomcamp/lib/python3.10/site-packages/_distutils_hack/__init__.py:33: UserWarning: Setuptools is replacing distutils.\"\n",
      "artifacts URI: '/home/danielpinheirofranco/Downloads/DataTalks.Club/MLOps_Zoomcamp_2023/02-experiment-tracking/homework/artifacts/0/425edce7c64d46d6b681656023974129/artifacts'\n"
     ]
    }
   ],
   "source": [
    "!python train.py"
   ]
  },
  {
   "attachments": {},
   "cell_type": "markdown",
   "id": "c8a1ebb0",
   "metadata": {},
   "source": [
    "By checking the MLflow UI (or code), we can see that the value of max_depth parameter is 10"
   ]
  },
  {
   "attachments": {},
   "cell_type": "markdown",
   "id": "5e0dc9f6",
   "metadata": {},
   "source": [
    "## Launch the tracking server locally for MLflow\n",
    "\n",
    "Now we want to manage the entire lifecycle of our ML model. In this step, you'll need to launch a tracking server. This way we will also have access to the model registry. \n",
    "\n",
    "In case of MLflow, you need to:\n",
    "\n",
    "* launch the tracking server on your local machine,\n",
    "* select a SQLite db for the backend store and a folder called `artifacts` for the artifacts store.\n",
    "\n",
    "You should keep the tracking server running to work on the next three exercises that use the server.\n",
    "\n",
    "\n",
    "\n",
    "Stop the server. Then, in the terminal, run the command below:\n",
    "\n",
    "`mlflow server --backend-store-uri sqlite:///backend.db --default-artifact-root artifacts`"
   ]
  },
  {
   "cell_type": "code",
   "execution_count": 4,
   "id": "af7db246",
   "metadata": {},
   "outputs": [
    {
     "name": "stdout",
     "output_type": "stream",
     "text": [
      "tracking URI: 'http://127.0.0.1:5000'\n",
      "2023/06/01 05:43:02 WARNING mlflow.utils.autologging_utils: MLflow autologging encountered a warning: \"/home/danielpinheirofranco/miniconda3/envs/mlopszoomcamp/lib/python3.10/site-packages/_distutils_hack/__init__.py:33: UserWarning: Setuptools is replacing distutils.\"\n",
      "artifacts URI: '/home/danielpinheirofranco/Downloads/DataTalks.Club/MLOps_Zoomcamp_2023/mlops-zoomcamp-d4nielfr4nco/homeworks/02-experiment-tracking/artifacts/0/837d697e15b94608951151e020749853/artifacts'\n"
     ]
    }
   ],
   "source": [
    "!python train.py"
   ]
  },
  {
   "attachments": {},
   "cell_type": "markdown",
   "id": "88cff0d9",
   "metadata": {},
   "source": [
    "## Q4. Tune model hyperparameters\n",
    "\n",
    "Now let's try to reduce the validation error by tuning the hyperparameters of the `RandomForestRegressor` using `optuna`. \n",
    "We have prepared the script `hpo.py` for this exercise. \n",
    "\n",
    "Your task is to modify the script `hpo.py` and make sure that the validation RMSE is logged to the tracking server for each run of the hyperparameter optimization (you will need to add a few lines of code to the `objective` function) and run the script without passing any parameters.\n",
    "\n",
    "After that, open UI and explore the runs from the experiment called `random-forest-hyperopt` to answer the question below.\n",
    "\n",
    "Note: Don't use autologging for this exercise.\n",
    "\n",
    "The idea is to just log the information that you need to answer the question below, including:\n",
    "\n",
    "* the list of hyperparameters that are passed to the `objective` function during the optimization,\n",
    "* the RMSE obtained on the validation set (February 2022 data).\n",
    "\n",
    "What's the best validation RMSE that you got?\n",
    "\n",
    "* 1.85\n",
    "* 2.15\n",
    "* 2.45\n",
    "* 2.85\n"
   ]
  },
  {
   "cell_type": "code",
   "execution_count": 5,
   "id": "d634c7d8",
   "metadata": {},
   "outputs": [
    {
     "name": "stdout",
     "output_type": "stream",
     "text": [
      "2023/06/01 05:43:07 INFO mlflow.tracking.fluent: Experiment with name 'random-forest-hyperopt' does not exist. Creating a new experiment.\n",
      "tracking URI: 'http://127.0.0.1:5000'\n",
      "\u001b[32m[I 2023-06-01 05:43:07,196]\u001b[0m A new study created in memory with name: no-name-398edda3-6bda-4d7d-9de4-654b964bfd47\u001b[0m\n",
      "\u001b[32m[I 2023-06-01 05:43:07,889]\u001b[0m Trial 0 finished with value: 2.451379690825458 and parameters: {'n_estimators': 25, 'max_depth': 20, 'min_samples_split': 8, 'min_samples_leaf': 3}. Best is trial 0 with value: 2.451379690825458.\u001b[0m\n",
      "\u001b[32m[I 2023-06-01 05:43:08,025]\u001b[0m Trial 1 finished with value: 2.4667366020368333 and parameters: {'n_estimators': 16, 'max_depth': 4, 'min_samples_split': 2, 'min_samples_leaf': 4}. Best is trial 0 with value: 2.451379690825458.\u001b[0m\n",
      "\u001b[32m[I 2023-06-01 05:43:08,653]\u001b[0m Trial 2 finished with value: 2.449827329704216 and parameters: {'n_estimators': 34, 'max_depth': 15, 'min_samples_split': 2, 'min_samples_leaf': 4}. Best is trial 2 with value: 2.449827329704216.\u001b[0m\n",
      "\u001b[32m[I 2023-06-01 05:43:08,909]\u001b[0m Trial 3 finished with value: 2.460983516558473 and parameters: {'n_estimators': 44, 'max_depth': 5, 'min_samples_split': 3, 'min_samples_leaf': 1}. Best is trial 2 with value: 2.449827329704216.\u001b[0m\n",
      "\u001b[32m[I 2023-06-01 05:43:09,239]\u001b[0m Trial 4 finished with value: 2.453877262701052 and parameters: {'n_estimators': 22, 'max_depth': 11, 'min_samples_split': 5, 'min_samples_leaf': 2}. Best is trial 2 with value: 2.449827329704216.\u001b[0m\n",
      "\u001b[32m[I 2023-06-01 05:43:09,406]\u001b[0m Trial 5 finished with value: 2.4720122094960733 and parameters: {'n_estimators': 35, 'max_depth': 3, 'min_samples_split': 4, 'min_samples_leaf': 2}. Best is trial 2 with value: 2.449827329704216.\u001b[0m\n",
      "\u001b[32m[I 2023-06-01 05:43:10,020]\u001b[0m Trial 6 finished with value: 2.4516421799356767 and parameters: {'n_estimators': 28, 'max_depth': 16, 'min_samples_split': 3, 'min_samples_leaf': 3}. Best is trial 2 with value: 2.449827329704216.\u001b[0m\n",
      "\u001b[32m[I 2023-06-01 05:43:10,153]\u001b[0m Trial 7 finished with value: 2.5374040268274087 and parameters: {'n_estimators': 34, 'max_depth': 1, 'min_samples_split': 7, 'min_samples_leaf': 1}. Best is trial 2 with value: 2.449827329704216.\u001b[0m\n",
      "\u001b[32m[I 2023-06-01 05:43:10,505]\u001b[0m Trial 8 finished with value: 2.455971238567075 and parameters: {'n_estimators': 12, 'max_depth': 19, 'min_samples_split': 10, 'min_samples_leaf': 4}. Best is trial 2 with value: 2.449827329704216.\u001b[0m\n",
      "\u001b[32m[I 2023-06-01 05:43:10,614]\u001b[0m Trial 9 finished with value: 2.486106021576535 and parameters: {'n_estimators': 22, 'max_depth': 2, 'min_samples_split': 8, 'min_samples_leaf': 2}. Best is trial 2 with value: 2.449827329704216.\u001b[0m\n"
     ]
    }
   ],
   "source": [
    "!python hpo.py"
   ]
  },
  {
   "attachments": {},
   "cell_type": "markdown",
   "id": "05e16a50",
   "metadata": {},
   "source": [
    "The best trial had a validation RMSE of 2.45."
   ]
  },
  {
   "attachments": {},
   "cell_type": "markdown",
   "id": "a181ea01",
   "metadata": {},
   "source": [
    "\n",
    "## Q5. Promote the best model to the model registry\n",
    "\n",
    "The results from the hyperparameter optimization are quite good. So, we can assume that we are ready to test some of these models in production. \n",
    "In this exercise, you'll promote the best model to the model registry. We have prepared a script called `register_model.py`, which will check the results from the previous step and select the top 5 runs. \n",
    "After that, it will calculate the RMSE of those models on the test set (March 2022 data) and save the results to a new experiment called `random-forest-best-models`.\n",
    "\n",
    "Your task is to update the script `register_model.py` so that it selects the model with the lowest RMSE on the test set and registers it to the model registry.\n",
    "\n",
    "Tips for MLflow:\n",
    "\n",
    "* you can use the method `search_runs` from the `MlflowClient` to get the model with the lowest RMSE,\n",
    "* to register the model you can use the method `mlflow.register_model` and you will need to pass the right `model_uri` in the form of a string that looks like this: `\"runs:/<RUN_ID>/model\"`, and the name of the model (make sure to choose a good one!).\n",
    "\n",
    "What is the test RMSE of the best model?\n",
    "\n",
    "* 1.885\n",
    "* 2.185\n",
    "* 2.555\n",
    "* 2.955\n"
   ]
  },
  {
   "cell_type": "code",
   "execution_count": 6,
   "id": "98dc62aa",
   "metadata": {},
   "outputs": [
    {
     "name": "stdout",
     "output_type": "stream",
     "text": [
      "2023/06/01 05:43:16 INFO mlflow.tracking.fluent: Experiment with name 'random-forest-best-models' does not exist. Creating a new experiment.\n",
      "tracking URI: 'http://127.0.0.1:5000'\n",
      "2023/06/01 05:43:18 WARNING mlflow.utils.autologging_utils: MLflow autologging encountered a warning: \"/home/danielpinheirofranco/miniconda3/envs/mlopszoomcamp/lib/python3.10/site-packages/_distutils_hack/__init__.py:33: UserWarning: Setuptools is replacing distutils.\"\n",
      "Successfully registered model 'BestRandomForestRegressor'.\n",
      "2023/06/01 05:43:24 INFO mlflow.tracking._model_registry.client: Waiting up to 300 seconds for model version to finish creation. Model name: BestRandomForestRegressor, version 1\n",
      "Created version '1' of model 'BestRandomForestRegressor'.\n"
     ]
    }
   ],
   "source": [
    "!python register_model.py"
   ]
  },
  {
   "attachments": {},
   "cell_type": "markdown",
   "id": "4bc8fdfa",
   "metadata": {},
   "source": [
    "By checking the MLflow UI, we can see that the best test RMSE of the best model was close to 2.285"
   ]
  },
  {
   "attachments": {},
   "cell_type": "markdown",
   "id": "e48decb0",
   "metadata": {},
   "source": [
    "\n",
    "## Q6. Model metadata\n",
    "\n",
    "Now explore your best model in the model registry using UI. What information does the model registry contain about each model?\n",
    "\n",
    "* Version number\n",
    "* Source experiment\n",
    "* Model signature\n",
    "* All the above answers are correct"
   ]
  },
  {
   "attachments": {},
   "cell_type": "markdown",
   "id": "db6e5cad",
   "metadata": {},
   "source": [
    "The Model Registry shows the Version number of every registered model."
   ]
  },
  {
   "attachments": {},
   "cell_type": "markdown",
   "id": "eb06968d",
   "metadata": {},
   "source": [
    "\n",
    "## Submit the results\n",
    "\n",
    "* Submit your results here: https://forms.gle/Fy1pvrPEKd4yjz3s6\n",
    "* You can submit your solution multiple times. In this case, only the last submission will be used\n",
    "* If your answer doesn't match options exactly, select the closest one\n",
    "\n",
    "## Answers\n",
    "* **Q1**: 2.3.1\n",
    "* **Q2**: 154 kB\n",
    "* **Q3**: 10\n",
    "* **Q4**: 2.45\n",
    "* **Q5**: 2.185\n",
    "* **Q6**: Version Number\n",
    "\n",
    "## Deadline\n",
    "\n",
    "The deadline for submitting is 1 June 2023 (Thursday), 23:00 CEST (Berlin time). \n",
    "\n",
    "After that, the form will be closed."
   ]
  }
 ],
 "metadata": {
  "kernelspec": {
   "display_name": "Python 3 (Conda)",
   "language": "python",
   "name": "mlopszoomcamp"
  },
  "language_info": {
   "codemirror_mode": {
    "name": "ipython",
    "version": 3
   },
   "file_extension": ".py",
   "mimetype": "text/x-python",
   "name": "python",
   "nbconvert_exporter": "python",
   "pygments_lexer": "ipython3",
   "version": "3.10.11"
  }
 },
 "nbformat": 4,
 "nbformat_minor": 5
}
